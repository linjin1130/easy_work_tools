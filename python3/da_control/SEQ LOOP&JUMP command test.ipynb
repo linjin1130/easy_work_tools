{
 "cells": [
  {
   "cell_type": "markdown",
   "metadata": {},
   "source": [
    "# DA序列控制基本功能测试"
   ]
  },
  {
   "cell_type": "code",
   "execution_count": 1,
   "metadata": {},
   "outputs": [],
   "source": [
    "from datetime import time\n",
    "from DAboard import *\n",
    "from IPython.display import Image\n",
    "import matplotlib.pyplot as plt\n",
    "import logging"
   ]
  },
  {
   "cell_type": "code",
   "execution_count": 2,
   "metadata": {},
   "outputs": [],
   "source": [
    "#setup\n",
    "logger = logging.getLogger()\n",
    "logger.setLevel(logging.INFO)"
   ]
  },
  {
   "cell_type": "markdown",
   "metadata": {},
   "source": [
    "## 测试连接示意图"
   ]
  },
  {
   "cell_type": "markdown",
   "metadata": {},
   "source": [
    "单DA板测试，主要测试序列控制功能\n",
    "\n",
    "DA到AD的触发输出连接到示波器1通道，波形输出连接到3通道\n",
    "\n",
    "DA与示波器均要与上位机连接到同一个网络\n",
    "\n",
    "测试覆盖性：\n",
    "\n",
    "1. LOOP JUMP指令\n",
    "2. 无嵌套，一层至四层嵌套测试\n",
    "3. 序列输出带触发功能\n",
    "4. LOOP和JUMP最小波形长度为4\n",
    "5. 触发、延时、态判断三种类型常规长度的指令"
   ]
  },
  {
   "cell_type": "markdown",
   "metadata": {},
   "source": [
    "## 准备序列\n",
    "### 一级触发输出开始单元"
   ]
  },
  {
   "cell_type": "code",
   "execution_count": 3,
   "metadata": {},
   "outputs": [
    {
     "data": {
      "text/plain": [
       "[0, 4, 2, 2048]"
      ]
     },
     "execution_count": 3,
     "metadata": {},
     "output_type": "execute_result"
    }
   ],
   "source": [
    "addr = 0\n",
    "length = 4\n",
    "ctrl = 0x1 << 11\n",
    "loop_cnt = 2\n",
    "loop_level = 0\n",
    "ctrl = ctrl | (loop_level << 8)\n",
    "seq_L1 =  [addr,4,loop_cnt,ctrl]\n",
    "seq_L1"
   ]
  },
  {
   "cell_type": "markdown",
   "metadata": {},
   "source": [
    "### 一级触发输出停止单元"
   ]
  },
  {
   "cell_type": "code",
   "execution_count": 4,
   "metadata": {},
   "outputs": [
    {
     "data": {
      "text/plain": [
       "[0, 4, 1, 4096]"
      ]
     },
     "execution_count": 4,
     "metadata": {},
     "output_type": "execute_result"
    }
   ],
   "source": [
    "ctrl = 0x2 << 11\n",
    "jump_addr = 1\n",
    "loop_level = 0\n",
    "ctrl = ctrl | (loop_level << 8)\n",
    "seq_J1 =  [addr,4,jump_addr,ctrl]\n",
    "seq_J1"
   ]
  },
  {
   "cell_type": "markdown",
   "metadata": {},
   "source": [
    "### 二级触发输出开始单元"
   ]
  },
  {
   "cell_type": "code",
   "execution_count": 5,
   "metadata": {},
   "outputs": [
    {
     "data": {
      "text/plain": [
       "[0, 4, 3, 2304]"
      ]
     },
     "execution_count": 5,
     "metadata": {},
     "output_type": "execute_result"
    }
   ],
   "source": [
    "ctrl = 0x1 << 11\n",
    "loop_cnt = 3\n",
    "loop_level = 1\n",
    "ctrl = ctrl | (loop_level << 8)\n",
    "seq_L2 =  [addr,4,loop_cnt,ctrl]\n",
    "seq_L2"
   ]
  },
  {
   "cell_type": "markdown",
   "metadata": {},
   "source": [
    "### 二级触发输出停止单元"
   ]
  },
  {
   "cell_type": "code",
   "execution_count": 6,
   "metadata": {},
   "outputs": [
    {
     "data": {
      "text/plain": [
       "[0, 4, 2, 4352]"
      ]
     },
     "execution_count": 6,
     "metadata": {},
     "output_type": "execute_result"
    }
   ],
   "source": [
    "ctrl = 0x2 << 11\n",
    "jump_addr = 2\n",
    "loop_level = 1\n",
    "ctrl = ctrl | (loop_level << 8)\n",
    "seq_J2 =  [addr,4,jump_addr,ctrl]\n",
    "seq_J2"
   ]
  },
  {
   "cell_type": "markdown",
   "metadata": {},
   "source": [
    "### 三级触发输出开始单元"
   ]
  },
  {
   "cell_type": "code",
   "execution_count": 7,
   "metadata": {},
   "outputs": [
    {
     "data": {
      "text/plain": [
       "[0, 4, 2, 2560]"
      ]
     },
     "execution_count": 7,
     "metadata": {},
     "output_type": "execute_result"
    }
   ],
   "source": [
    "ctrl = 0x1 << 11\n",
    "loop_cnt = 2\n",
    "loop_level = 2\n",
    "ctrl = ctrl | (loop_level << 8)\n",
    "seq_L3 =  [addr,4,loop_cnt,ctrl]\n",
    "seq_L3"
   ]
  },
  {
   "cell_type": "markdown",
   "metadata": {},
   "source": [
    "### 三级触发输出停止单元"
   ]
  },
  {
   "cell_type": "code",
   "execution_count": 8,
   "metadata": {},
   "outputs": [
    {
     "data": {
      "text/plain": [
       "[0, 4, 3, 4608]"
      ]
     },
     "execution_count": 8,
     "metadata": {},
     "output_type": "execute_result"
    }
   ],
   "source": [
    "ctrl = 0x2 << 11\n",
    "jump_addr = 3\n",
    "loop_level = 2\n",
    "ctrl = ctrl | (loop_level << 8)\n",
    "seq_J3 =  [addr,4,jump_addr,ctrl]\n",
    "seq_J3"
   ]
  },
  {
   "cell_type": "markdown",
   "metadata": {},
   "source": [
    "### 四级触发输出开始单元"
   ]
  },
  {
   "cell_type": "code",
   "execution_count": 9,
   "metadata": {},
   "outputs": [
    {
     "data": {
      "text/plain": [
       "[0, 4, 3, 2816]"
      ]
     },
     "execution_count": 9,
     "metadata": {},
     "output_type": "execute_result"
    }
   ],
   "source": [
    "ctrl = 0x1 << 11\n",
    "loop_cnt = 3\n",
    "loop_level = 3\n",
    "ctrl = ctrl | (loop_level << 8)\n",
    "seq_L4 =  [addr,4,loop_cnt,ctrl]\n",
    "seq_L4"
   ]
  },
  {
   "cell_type": "markdown",
   "metadata": {},
   "source": [
    "### 四级触发输出停止单元"
   ]
  },
  {
   "cell_type": "code",
   "execution_count": 10,
   "metadata": {},
   "outputs": [
    {
     "data": {
      "text/plain": [
       "[0, 4, 8, 4864]"
      ]
     },
     "execution_count": 10,
     "metadata": {},
     "output_type": "execute_result"
    }
   ],
   "source": [
    "ctrl = 0x2 << 11\n",
    "jump_addr = 8\n",
    "loop_level = 3\n",
    "ctrl = ctrl | (loop_level << 8)\n",
    "seq_J4 =  [addr,4,jump_addr,ctrl]\n",
    "seq_J4"
   ]
  },
  {
   "cell_type": "markdown",
   "metadata": {},
   "source": [
    "### 触发单元 正弦 周期为16个采样点"
   ]
  },
  {
   "cell_type": "code",
   "execution_count": 11,
   "metadata": {},
   "outputs": [
    {
     "data": {
      "text/plain": [
       "[0, 16, 0, 16384]"
      ]
     },
     "execution_count": 11,
     "metadata": {},
     "output_type": "execute_result"
    }
   ],
   "source": [
    "#触发类型，地址为0，长度为64ns ， 重复次数为0\n",
    "ctrl = 0x8 << 11\n",
    "start_addr = 0\n",
    "length = 16\n",
    "seq_T =  [start_addr,length,0,ctrl]\n",
    "seq_T"
   ]
  },
  {
   "cell_type": "markdown",
   "metadata": {},
   "source": [
    "### 计时输出单元  正弦波（周期为128个采样点）"
   ]
  },
  {
   "cell_type": "code",
   "execution_count": 12,
   "metadata": {},
   "outputs": [
    {
     "data": {
      "text/plain": [
       "[16, 32, 2, 8192]"
      ]
     },
     "execution_count": 12,
     "metadata": {},
     "output_type": "execute_result"
    }
   ],
   "source": [
    "#计时输出类型，地址为16，长度为128ns 计时2ns\n",
    "ctrl = 0x4 << 11\n",
    "start_addr = 16\n",
    "length = 32\n",
    "seq_D =  [start_addr,length,2,ctrl]\n",
    "seq_D"
   ]
  },
  {
   "cell_type": "markdown",
   "metadata": {},
   "source": [
    "### 态判断输出单元"
   ]
  },
  {
   "cell_type": "code",
   "execution_count": 13,
   "metadata": {},
   "outputs": [
    {
     "data": {
      "text/plain": [
       "[257, 64, 257, 24576]"
      ]
     },
     "execution_count": 13,
     "metadata": {},
     "output_type": "execute_result"
    }
   ],
   "source": [
    "ctrl = 0xC << 11\n",
    "start_addr1 = 1#1态\n",
    "start_addr2 = 1#2态\n",
    "start_addr3 = 1#NULL态\n",
    "start_addr4 = 1#0态\n",
    "seq_C =  [start_addr1<<8 | start_addr2,64,start_addr3<<8 | start_addr4,ctrl]\n",
    "seq_C"
   ]
  },
  {
   "cell_type": "markdown",
   "metadata": {},
   "source": [
    "### 停止序列"
   ]
  },
  {
   "cell_type": "markdown",
   "metadata": {},
   "source": [
    "## 准备波形\n",
    "### 波形区说明\n",
    "0-15地址为16x4=64ns的正弦波（周期为16个采样点）    触发  \n",
    "16-47地址为32x4=128ns的正弦波（周期为256个采样点） 计数  \n",
    "48-127地址为80x4=320ns的方波（周期为640个采样点）  \n",
    "触发序列收到触发时输出0-31的波形：seq_T=[0, 16, 0, 16384]  \n",
    "计数序列输出32-63地址的正弦波： seq_D=[16, 32, 2, 8192]  \n",
    "态判断输出0态时输出64-95地址的波形，1态时输出64-95地址的波形。seq_C=[258, 64, 769, 24576]\n"
   ]
  },
  {
   "cell_type": "code",
   "execution_count": 14,
   "metadata": {},
   "outputs": [],
   "source": [
    "da_ctrl = waveform()\n",
    "da_ctrl.generate_sin(repeat=100,cycle_count=5)\n",
    "# da_ctrl.generate_seq(length=len(da_ctrl.wave)>>4)\n",
    "# da_ctrl.gen_comp_wave()\n",
    "# count_seq = [0, 64, 2, 4<<11]*2\n",
    "tmp_wave = da_ctrl.wave[0:128]\n",
    "da_ctrl.generate_sin(repeat=3,cycle_count=256)\n",
    "tmp_wave += da_ctrl.wave[0:256]\n",
    "# da_ctrl.generate_cos(repeat=3,cycle_count=256)\n",
    "da_ctrl.generate_squr(repeat=4, hightime=320,lowtime1=160,lowtime2=160)\n",
    "tmp_wave += da_ctrl.wave[0:640]\n",
    "da_ctrl.wave = tmp_wave"
   ]
  },
  {
   "cell_type": "markdown",
   "metadata": {},
   "source": [
    "### 基础波形"
   ]
  },
  {
   "cell_type": "code",
   "execution_count": 15,
   "metadata": {},
   "outputs": [
    {
     "data": {
      "image/png": "[encoded data removed]",
      "text/plain": [
       "<Figure size 432x288 with 1 Axes>"
      ]
     },
     "metadata": {},
     "output_type": "display_data"
    }
   ],
   "source": [
    "plt.figure()\n",
    "plt.plot(da_ctrl.wave)\n",
    "plt.show()"
   ]
  },
  {
   "cell_type": "markdown",
   "metadata": {},
   "source": [
    "## 准备DA"
   ]
  },
  {
   "cell_type": "code",
   "execution_count": 16,
   "metadata": {
    "scrolled": true
   },
   "outputs": [
    {
     "name": "stdout",
     "output_type": "stream",
     "text": [
      "Calling Board_Defines class constructor\n"
     ]
    }
   ],
   "source": [
    "from DAboard import *\n",
    "da = DABoard()\n",
    "ip = '10.0.5.5'"
   ]
  },
  {
   "cell_type": "code",
   "execution_count": 17,
   "metadata": {},
   "outputs": [
    {
     "name": "stdout",
     "output_type": "stream",
     "text": [
      "Host name is: 10.0.5.5\n",
      "connected\n"
     ]
    }
   ],
   "source": [
    "da.connect(ip)\n",
    "da.InitBoard()\n",
    "da.SetLoop(1,1,1,1)\n",
    "da.SetDefaultVolt(1,32768)\n",
    "da.SetDefaultVolt(2,32768)\n",
    "da.SetDefaultVolt(3,32768)\n",
    "da.SetDefaultVolt(4,32768)"
   ]
  },
  {
   "cell_type": "code",
   "execution_count": 18,
   "metadata": {},
   "outputs": [],
   "source": [
    "da.StartStop(240) #停止所有输出\n",
    "for i in range(1,5): #4个通道均写入基础波形\n",
    "    da.WriteWave(i,da_ctrl.wave)"
   ]
  },
  {
   "cell_type": "markdown",
   "metadata": {},
   "source": [
    "### DA逻辑版本"
   ]
  },
  {
   "cell_type": "code",
   "execution_count": 19,
   "metadata": {},
   "outputs": [
    {
     "name": "stdout",
     "output_type": "stream",
     "text": [
      "[1, 69, 28]\n"
     ]
    }
   ],
   "source": [
    "print(da.soft_version)"
   ]
  },
  {
   "cell_type": "markdown",
   "metadata": {},
   "source": [
    "## 准备触发"
   ]
  },
  {
   "cell_type": "code",
   "execution_count": 20,
   "metadata": {},
   "outputs": [],
   "source": [
    "da.MultiBoardMode(1) #1是单板工作\n",
    "da.SetTrigCount(1)\n",
    "da.SetTrigCountL2(1)\n",
    "da.SetTrigInterval(200*250)#200us触发间隔\n",
    "da.SetTrigIntervalL2(200*250)#200us触发间隔\n",
    "da.SetTrigStart(52) \n",
    "da.SetDACStart(1)\n",
    "da.SwitchTrigMode(1)"
   ]
  },
  {
   "cell_type": "markdown",
   "metadata": {},
   "source": [
    "## 准备示波器"
   ]
  },
  {
   "cell_type": "code",
   "execution_count": 21,
   "metadata": {},
   "outputs": [],
   "source": [
    "## %matplotlib notebook\n",
    "import matplotlib.pyplot as plt\n",
    "import qcodes as qc\n",
    "from qcodes.instrument_drivers.rohde_schwarz.RTO1000 import RTO1000"
   ]
  },
  {
   "cell_type": "markdown",
   "metadata": {},
   "source": [
    "### 示波器地址 "
   ]
  },
  {
   "cell_type": "code",
   "execution_count": 22,
   "metadata": {},
   "outputs": [
    {
     "name": "stdout",
     "output_type": "stream",
     "text": [
      "Connected to: Rohde&Schwarz RTO (serial:1329.7002k14/300087, firmware:3.65.1.0) in 0.15s\n"
     ]
    }
   ],
   "source": [
    "rto = RTO1000('rto', 'TCPIP0::10.0.0.230::inst0::INSTR')"
   ]
  },
  {
   "cell_type": "markdown",
   "metadata": {},
   "source": [
    "复位示波器，进入初始设置"
   ]
  },
  {
   "cell_type": "code",
   "execution_count": 23,
   "metadata": {},
   "outputs": [],
   "source": [
    "rto.reset()\n",
    "rto.display('view')"
   ]
  },
  {
   "cell_type": "markdown",
   "metadata": {},
   "source": [
    "### 使能连接信号的通道  "
   ]
  },
  {
   "cell_type": "code",
   "execution_count": 24,
   "metadata": {},
   "outputs": [],
   "source": [
    "rto.ch3.coupling('DC')  # 'DC' means DC 50 Ohm, 'DCLimit' means DC 1 MOhm, 'AC' means AC 1 MOhm.\n",
    "rto.ch3.state('ON')\n",
    "# This is EXACTLY matching the waveform...\n",
    "rto.ch3.range(2)\n",
    "rto.ch3.offset(0.3)"
   ]
  },
  {
   "cell_type": "code",
   "execution_count": 25,
   "metadata": {},
   "outputs": [],
   "source": [
    "rto.ch1.coupling('DC')  # 'DC' means DC 50 Ohm, 'DCLimit' means DC 1 MOhm, 'AC' means AC 1 MOhm.\n",
    "rto.ch1.state('ON')\n",
    "# This is EXACTLY matching the waveform...\n",
    "ch1_range = 2\n",
    "rto.ch1.range(ch1_range)\n",
    "rto.ch1.offset(-0.3)"
   ]
  },
  {
   "cell_type": "markdown",
   "metadata": {},
   "source": [
    "### 设置示波器显示  \n",
    "设置通道在屏幕的偏移位置  \n",
    "设置时间尺度  \n",
    "设置电压尺度  "
   ]
  },
  {
   "cell_type": "code",
   "execution_count": 26,
   "metadata": {},
   "outputs": [],
   "source": [
    "rto.timebase_range(1/100e3)\n",
    "rto.timebase_position(5e-6)"
   ]
  },
  {
   "cell_type": "markdown",
   "metadata": {},
   "source": [
    "### 设置示波器触发   \n",
    "设置触发通道  \n",
    "设置触发电平  \n",
    "设置触发显示位置  \n",
    "示波器进入等待触发状态   "
   ]
  },
  {
   "cell_type": "code",
   "execution_count": 27,
   "metadata": {},
   "outputs": [],
   "source": [
    "rto.trigger_source('CH1')\n",
    "rto.trigger_type('EDGE')\n",
    "rto.trigger_edge_slope('POS')\n",
    "rto.trigger_level(0.5)\n",
    "rto.trigger_mode('NORM')"
   ]
  },
  {
   "cell_type": "markdown",
   "metadata": {},
   "source": [
    "## 波形输出与读回对比测试"
   ]
  },
  {
   "cell_type": "markdown",
   "metadata": {},
   "source": [
    "### DA发出的波形数据与示波器采集回的数据进行归一化的叠加显示函数"
   ]
  },
  {
   "cell_type": "code",
   "execution_count": 28,
   "metadata": {},
   "outputs": [],
   "source": [
    "import numpy as np\n",
    "\n",
    "def process_waves(wave, osc_data):\n",
    "    wave_data = np.asarray(wave)\n",
    "    print()\n",
    "#     wave_data = wave_data[0:-1]\n",
    "    space = wave_data.max()-wave_data.min()\n",
    "    min_val = wave_data.min()\n",
    "    wave_data = (wave_data-min_val)/space\n",
    "    length = len(wave)\n",
    "    \n",
    "    osc_data = osc_data[::5,]\n",
    "    osc_data = osc_data[18:18+length-1,]\n",
    "\n",
    "    space = osc_data.max()-osc_data.min()\n",
    "    min_val = osc_data.min()\n",
    "    osc_data = (osc_data-min_val)/space\n",
    "    # da.disconnect()\n",
    "    plot = qc.MatPlot(subplots=1,figsize=(10,3))\n",
    "    plot[0].add(wave_data,xlabel=\"采样点\", xunit=\"(5e-10)\",\\\n",
    "                ylabel= \"归一化显示电压值\",yunit =\"V\")\n",
    "    plot[0].add(osc_data,xlabel=\"采样点\", xunit=\"(5e-10)\",\\\n",
    "                ylabel= \"归一化显示电压值\",yunit =\"V\")"
   ]
  },
  {
   "cell_type": "code",
   "execution_count": 29,
   "metadata": {},
   "outputs": [],
   "source": [
    "def send_and_read_back_wave(sample_count, rto, da, da_ctrl, trig_time):\n",
    "#     duration = (int(sample_count+40) >> 1) * 10e-10\n",
    "    duration = int((sample_count+199)/200) * 10e-8\n",
    "    rto.timebase_range(duration) \n",
    "    rto.timebase_position(duration/2 - 10e-9)\n",
    "\n",
    "#     rto.run_cont()\n",
    "    rto.run_single()  # and perform a single run. \n",
    "    time.sleep(0.2)\n",
    "    print(da_ctrl.seq)\n",
    "    for i in range(1,5):\n",
    "        da.WriteSeq(i,da_ctrl.seq)\n",
    "\n",
    "    da.StartStop(15)\n",
    "\n",
    "    da.SendIntTrig()\n",
    "\n",
    "    #读取示波器波形数据并画图\n",
    "\n",
    "    # Next, the trace must be prepared. This ensures that all settings are correct\n",
    "    rto.ch3.trace.prepare_trace()\n",
    "    rto.ch1.trace.prepare_trace()\n",
    "    # Now make a measurement of the trace and display it\n",
    "    data_tr3 = qc.Measure(rto.ch3.trace).run()\n",
    "    data_tr1 = qc.Measure(rto.ch1.trace).run()\n",
    "    \n",
    "    osc_data = data_tr1.arrays['trace'][100::5]\n",
    "    pre_volt = 0.0;\n",
    "    osc_trig_time = []\n",
    "    for i in range(len(osc_data)):\n",
    "        if osc_data[i] > 0.5 and pre_volt <= 0.5:\n",
    "            osc_trig_time.append(i*0.5)\n",
    "        pre_volt = osc_data[i]\n",
    "    for i in range(min(len(trig_time), len(osc_trig_time))):\n",
    "        if trig_time[i] != osc_trig_time[i]:\n",
    "            print('触发时刻不匹配：预期{}，实际{}'.format(trig_time[i],osc_trig_time[i]))\n",
    "        else:\n",
    "            print('触发时刻匹配:{}'.format(osc_trig_time[i]))\n",
    "    plot = qc.MatPlot(subplots=1, figsize=(10,4))\n",
    "    plot[0].add(data_tr1.arrays['trace'])\n",
    "    plot[0].add(data_tr3.arrays['trace'])\n",
    "    return data_tr3"
   ]
  },
  {
   "cell_type": "markdown",
   "metadata": {},
   "source": [
    "### 无嵌套"
   ]
  },
  {
   "cell_type": "code",
   "execution_count": 30,
   "metadata": {},
   "outputs": [],
   "source": [
    "# da.SendIntTrig()"
   ]
  },
  {
   "cell_type": "code",
   "execution_count": 31,
   "metadata": {
    "scrolled": true
   },
   "outputs": [
    {
     "name": "stdout",
     "output_type": "stream",
     "text": [
      "循环嵌套关系：[0, 1, 2, 3]\n",
      "触发时刻:0.0ns\n",
      "触发时刻:64.0ns\n"
     ]
    },
    {
     "data": {
      "image/png": "[encoded data removed]",
      "text/plain": [
       "<Figure size 648x288 with 2 Axes>"
      ]
     },
     "metadata": {},
     "output_type": "display_data"
    },
    {
     "name": "stdout",
     "output_type": "stream",
     "text": [
      "[0, 16, 0, 17453, 257, 64, 257, 58413, 16, 32, 2, 8192, 257, 64, 257, 58413, 0, 0, 0, 0, 0, 0, 0, 0, 0, 0, 0, 0, 0, 0, 0, 0, 0, 0, 0, 0, 0, 0, 0, 0, 0, 0, 0, 0, 0, 0, 0, 0, 0, 0, 0, 0, 0, 0, 0, 0]\n"
     ]
    }
   ],
   "source": [
    "# %matplotlib notebook\n",
    "da.SwitchTrigMode(1)\n",
    "seq_T[3] &= 0xF800\n",
    "seq_T[3] = seq_T[3] | (1<<10) | 45\n",
    "seq_T[2] = 0\n",
    "seq_C[3] &= 0xF800\n",
    "seq_C[3] = seq_C[3] | (1<<10) | 45\n",
    "seq_T_stop = seq_C\n",
    "seq_T_stop[3] = 0x8000 | seq_T_stop[3]\n",
    "da_ctrl.seq = seq_T+seq_C+seq_D+seq_T_stop+[0,0,0,0]*10\n",
    "sample_count,wave,trig_time = da_ctrl.wave_preview('无嵌套')\n",
    "print(da_ctrl.seq)\n",
    "da.StartStop(240)"
   ]
  },
  {
   "cell_type": "code",
   "execution_count": 32,
   "metadata": {},
   "outputs": [],
   "source": [
    "da.StartStop(15)\n",
    "\n",
    "da.SendIntTrig()"
   ]
  },
  {
   "cell_type": "markdown",
   "metadata": {},
   "source": [
    "#### 发送波形并读取示波器波形数据并画图"
   ]
  },
  {
   "cell_type": "code",
   "execution_count": 39,
   "metadata": {
    "scrolled": false
   },
   "outputs": [
    {
     "ename": "VisaIOError",
     "evalue": "('VI_ERROR_TMO (-1073807339): Timeout expired before operation completed.', \"writing 'TIMebase:RANGe 4e-07' to <RTO1000: rto>\", 'setting rto_timebase_range to 4e-07')",
     "output_type": "error",
     "traceback": [
      "\u001b[1;31m---------------------------------------------------------------------------\u001b[0m",
      "\u001b[1;31mVisaIOError\u001b[0m                               Traceback (most recent call last)",
      "\u001b[1;32m<ipython-input-39-d105f5b38cdc>\u001b[0m in \u001b[0;36m<module>\u001b[1;34m()\u001b[0m\n\u001b[1;32m----> 1\u001b[1;33m \u001b[0mdata_tr3\u001b[0m \u001b[1;33m=\u001b[0m \u001b[0msend_and_read_back_wave\u001b[0m\u001b[1;33m(\u001b[0m\u001b[0msample_count\u001b[0m\u001b[1;33m,\u001b[0m \u001b[0mrto\u001b[0m\u001b[1;33m,\u001b[0m \u001b[0mda\u001b[0m\u001b[1;33m,\u001b[0m \u001b[0mda_ctrl\u001b[0m\u001b[1;33m,\u001b[0m \u001b[0mtrig_time\u001b[0m\u001b[1;33m)\u001b[0m\u001b[1;33m\u001b[0m\u001b[0m\n\u001b[0m",
      "\u001b[1;32m<ipython-input-29-fdabf204eec2>\u001b[0m in \u001b[0;36msend_and_read_back_wave\u001b[1;34m(sample_count, rto, da, da_ctrl, trig_time)\u001b[0m\n\u001b[0;32m      2\u001b[0m \u001b[1;31m#     duration = (int(sample_count+40) >> 1) * 10e-10\u001b[0m\u001b[1;33m\u001b[0m\u001b[1;33m\u001b[0m\u001b[0m\n\u001b[0;32m      3\u001b[0m     \u001b[0mduration\u001b[0m \u001b[1;33m=\u001b[0m \u001b[0mint\u001b[0m\u001b[1;33m(\u001b[0m\u001b[1;33m(\u001b[0m\u001b[0msample_count\u001b[0m\u001b[1;33m+\u001b[0m\u001b[1;36m199\u001b[0m\u001b[1;33m)\u001b[0m\u001b[1;33m/\u001b[0m\u001b[1;36m200\u001b[0m\u001b[1;33m)\u001b[0m \u001b[1;33m*\u001b[0m \u001b[1;36m10e-8\u001b[0m\u001b[1;33m\u001b[0m\u001b[0m\n\u001b[1;32m----> 4\u001b[1;33m     \u001b[0mrto\u001b[0m\u001b[1;33m.\u001b[0m\u001b[0mtimebase_range\u001b[0m\u001b[1;33m(\u001b[0m\u001b[0mduration\u001b[0m\u001b[1;33m)\u001b[0m\u001b[1;33m\u001b[0m\u001b[0m\n\u001b[0m\u001b[0;32m      5\u001b[0m     \u001b[0mrto\u001b[0m\u001b[1;33m.\u001b[0m\u001b[0mtimebase_position\u001b[0m\u001b[1;33m(\u001b[0m\u001b[0mduration\u001b[0m\u001b[1;33m/\u001b[0m\u001b[1;36m2\u001b[0m \u001b[1;33m-\u001b[0m \u001b[1;36m10e-9\u001b[0m\u001b[1;33m)\u001b[0m\u001b[1;33m\u001b[0m\u001b[0m\n\u001b[0;32m      6\u001b[0m \u001b[1;33m\u001b[0m\u001b[0m\n",
      "\u001b[1;32mc:\\python\\lib\\site-packages\\qcodes\\instrument\\parameter.py\u001b[0m in \u001b[0;36m__call__\u001b[1;34m(self, *args, **kwargs)\u001b[0m\n\u001b[0;32m    250\u001b[0m         \u001b[1;32melse\u001b[0m\u001b[1;33m:\u001b[0m\u001b[1;33m\u001b[0m\u001b[0m\n\u001b[0;32m    251\u001b[0m             \u001b[1;32mif\u001b[0m \u001b[0mhasattr\u001b[0m\u001b[1;33m(\u001b[0m\u001b[0mself\u001b[0m\u001b[1;33m,\u001b[0m \u001b[1;34m'set'\u001b[0m\u001b[1;33m)\u001b[0m\u001b[1;33m:\u001b[0m\u001b[1;33m\u001b[0m\u001b[0m\n\u001b[1;32m--> 252\u001b[1;33m                 \u001b[0mself\u001b[0m\u001b[1;33m.\u001b[0m\u001b[0mset\u001b[0m\u001b[1;33m(\u001b[0m\u001b[1;33m*\u001b[0m\u001b[0margs\u001b[0m\u001b[1;33m,\u001b[0m \u001b[1;33m**\u001b[0m\u001b[0mkwargs\u001b[0m\u001b[1;33m)\u001b[0m\u001b[1;33m\u001b[0m\u001b[0m\n\u001b[0m\u001b[0;32m    253\u001b[0m             \u001b[1;32melse\u001b[0m\u001b[1;33m:\u001b[0m\u001b[1;33m\u001b[0m\u001b[0m\n\u001b[0;32m    254\u001b[0m                 raise NotImplementedError('no set cmd found in' +\n",
      "\u001b[1;32mc:\\python\\lib\\site-packages\\qcodes\\instrument\\parameter.py\u001b[0m in \u001b[0;36mset_wrapper\u001b[1;34m(value, **kwargs)\u001b[0m\n\u001b[0;32m    418\u001b[0m             \u001b[1;32mexcept\u001b[0m \u001b[0mException\u001b[0m \u001b[1;32mas\u001b[0m \u001b[0me\u001b[0m\u001b[1;33m:\u001b[0m\u001b[1;33m\u001b[0m\u001b[0m\n\u001b[0;32m    419\u001b[0m                 \u001b[0me\u001b[0m\u001b[1;33m.\u001b[0m\u001b[0margs\u001b[0m \u001b[1;33m=\u001b[0m \u001b[0me\u001b[0m\u001b[1;33m.\u001b[0m\u001b[0margs\u001b[0m \u001b[1;33m+\u001b[0m \u001b[1;33m(\u001b[0m\u001b[1;34m'setting {} to {}'\u001b[0m\u001b[1;33m.\u001b[0m\u001b[0mformat\u001b[0m\u001b[1;33m(\u001b[0m\u001b[0mself\u001b[0m\u001b[1;33m,\u001b[0m \u001b[0mvalue\u001b[0m\u001b[1;33m)\u001b[0m\u001b[1;33m,\u001b[0m\u001b[1;33m)\u001b[0m\u001b[1;33m\u001b[0m\u001b[0m\n\u001b[1;32m--> 420\u001b[1;33m                 \u001b[1;32mraise\u001b[0m \u001b[0me\u001b[0m\u001b[1;33m\u001b[0m\u001b[0m\n\u001b[0m\u001b[0;32m    421\u001b[0m \u001b[1;33m\u001b[0m\u001b[0m\n\u001b[0;32m    422\u001b[0m         \u001b[1;32mreturn\u001b[0m \u001b[0mset_wrapper\u001b[0m\u001b[1;33m\u001b[0m\u001b[0m\n",
      "\u001b[1;32mc:\\python\\lib\\site-packages\\qcodes\\instrument\\parameter.py\u001b[0m in \u001b[0;36mset_wrapper\u001b[1;34m(value, **kwargs)\u001b[0m\n\u001b[0;32m    400\u001b[0m                     \u001b[0mt0\u001b[0m \u001b[1;33m=\u001b[0m \u001b[0mtime\u001b[0m\u001b[1;33m.\u001b[0m\u001b[0mperf_counter\u001b[0m\u001b[1;33m(\u001b[0m\u001b[1;33m)\u001b[0m\u001b[1;33m\u001b[0m\u001b[0m\n\u001b[0;32m    401\u001b[0m \u001b[1;33m\u001b[0m\u001b[0m\n\u001b[1;32m--> 402\u001b[1;33m                     \u001b[0mset_function\u001b[0m\u001b[1;33m(\u001b[0m\u001b[0mparsed_scaled_mapped_value\u001b[0m\u001b[1;33m,\u001b[0m \u001b[1;33m**\u001b[0m\u001b[0mkwargs\u001b[0m\u001b[1;33m)\u001b[0m\u001b[1;33m\u001b[0m\u001b[0m\n\u001b[0m\u001b[0;32m    403\u001b[0m                     \u001b[0mself\u001b[0m\u001b[1;33m.\u001b[0m\u001b[0mraw_value\u001b[0m \u001b[1;33m=\u001b[0m \u001b[0mparsed_scaled_mapped_value\u001b[0m\u001b[1;33m\u001b[0m\u001b[0m\n\u001b[0;32m    404\u001b[0m                     self._save_val(val_step,\n",
      "\u001b[1;32mc:\\python\\lib\\site-packages\\qcodes\\utils\\command.py\u001b[0m in \u001b[0;36m__call__\u001b[1;34m(self, *args)\u001b[0m\n\u001b[0;32m    175\u001b[0m             raise TypeError(\n\u001b[0;32m    176\u001b[0m                 'command takes exactly {} args'.format(self.arg_count))\n\u001b[1;32m--> 177\u001b[1;33m         \u001b[1;32mreturn\u001b[0m \u001b[0mself\u001b[0m\u001b[1;33m.\u001b[0m\u001b[0mexec_function\u001b[0m\u001b[1;33m(\u001b[0m\u001b[1;33m*\u001b[0m\u001b[0margs\u001b[0m\u001b[1;33m)\u001b[0m\u001b[1;33m\u001b[0m\u001b[0m\n\u001b[0m",
      "\u001b[1;32mc:\\python\\lib\\site-packages\\qcodes\\instrument_drivers\\rohde_schwarz\\RTO1000.py\u001b[0m in \u001b[0;36m_set_timebase_range\u001b[1;34m(self, value)\u001b[0m\n\u001b[0;32m    562\u001b[0m         \u001b[0mself\u001b[0m\u001b[1;33m.\u001b[0m\u001b[0mtimebase_scale\u001b[0m\u001b[1;33m.\u001b[0m\u001b[0m_save_val\u001b[0m\u001b[1;33m(\u001b[0m\u001b[0mvalue\u001b[0m\u001b[1;33m/\u001b[0m\u001b[0mself\u001b[0m\u001b[1;33m.\u001b[0m\u001b[0m_horisontal_divs\u001b[0m\u001b[1;33m)\u001b[0m\u001b[1;33m\u001b[0m\u001b[0m\n\u001b[0;32m    563\u001b[0m \u001b[1;33m\u001b[0m\u001b[0m\n\u001b[1;32m--> 564\u001b[1;33m         \u001b[0mself\u001b[0m\u001b[1;33m.\u001b[0m\u001b[0mwrite\u001b[0m\u001b[1;33m(\u001b[0m\u001b[1;34m'TIMebase:RANGe {}'\u001b[0m\u001b[1;33m.\u001b[0m\u001b[0mformat\u001b[0m\u001b[1;33m(\u001b[0m\u001b[0mvalue\u001b[0m\u001b[1;33m)\u001b[0m\u001b[1;33m)\u001b[0m\u001b[1;33m\u001b[0m\u001b[0m\n\u001b[0m\u001b[0;32m    565\u001b[0m \u001b[1;33m\u001b[0m\u001b[0m\n\u001b[0;32m    566\u001b[0m     \u001b[1;32mdef\u001b[0m \u001b[0m_set_timebase_scale\u001b[0m\u001b[1;33m(\u001b[0m\u001b[0mself\u001b[0m\u001b[1;33m,\u001b[0m \u001b[0mvalue\u001b[0m\u001b[1;33m)\u001b[0m\u001b[1;33m:\u001b[0m\u001b[1;33m\u001b[0m\u001b[0m\n",
      "\u001b[1;32mc:\\python\\lib\\site-packages\\qcodes\\instrument\\base.py\u001b[0m in \u001b[0;36mwrite\u001b[1;34m(self, cmd)\u001b[0m\n\u001b[0;32m    618\u001b[0m             \u001b[0minst\u001b[0m \u001b[1;33m=\u001b[0m \u001b[0mrepr\u001b[0m\u001b[1;33m(\u001b[0m\u001b[0mself\u001b[0m\u001b[1;33m)\u001b[0m\u001b[1;33m\u001b[0m\u001b[0m\n\u001b[0;32m    619\u001b[0m             \u001b[0me\u001b[0m\u001b[1;33m.\u001b[0m\u001b[0margs\u001b[0m \u001b[1;33m=\u001b[0m \u001b[0me\u001b[0m\u001b[1;33m.\u001b[0m\u001b[0margs\u001b[0m \u001b[1;33m+\u001b[0m \u001b[1;33m(\u001b[0m\u001b[1;34m'writing '\u001b[0m \u001b[1;33m+\u001b[0m \u001b[0mrepr\u001b[0m\u001b[1;33m(\u001b[0m\u001b[0mcmd\u001b[0m\u001b[1;33m)\u001b[0m \u001b[1;33m+\u001b[0m \u001b[1;34m' to '\u001b[0m \u001b[1;33m+\u001b[0m \u001b[0minst\u001b[0m\u001b[1;33m,\u001b[0m\u001b[1;33m)\u001b[0m\u001b[1;33m\u001b[0m\u001b[0m\n\u001b[1;32m--> 620\u001b[1;33m             \u001b[1;32mraise\u001b[0m \u001b[0me\u001b[0m\u001b[1;33m\u001b[0m\u001b[0m\n\u001b[0m\u001b[0;32m    621\u001b[0m \u001b[1;33m\u001b[0m\u001b[0m\n\u001b[0;32m    622\u001b[0m     \u001b[1;32mdef\u001b[0m \u001b[0mwrite_raw\u001b[0m\u001b[1;33m(\u001b[0m\u001b[0mself\u001b[0m\u001b[1;33m,\u001b[0m \u001b[0mcmd\u001b[0m\u001b[1;33m:\u001b[0m \u001b[0mstr\u001b[0m\u001b[1;33m)\u001b[0m \u001b[1;33m->\u001b[0m \u001b[1;32mNone\u001b[0m\u001b[1;33m:\u001b[0m\u001b[1;33m\u001b[0m\u001b[0m\n",
      "\u001b[1;32mc:\\python\\lib\\site-packages\\qcodes\\instrument\\base.py\u001b[0m in \u001b[0;36mwrite\u001b[1;34m(self, cmd)\u001b[0m\n\u001b[0;32m    614\u001b[0m         \"\"\"\n\u001b[0;32m    615\u001b[0m         \u001b[1;32mtry\u001b[0m\u001b[1;33m:\u001b[0m\u001b[1;33m\u001b[0m\u001b[0m\n\u001b[1;32m--> 616\u001b[1;33m             \u001b[0mself\u001b[0m\u001b[1;33m.\u001b[0m\u001b[0mwrite_raw\u001b[0m\u001b[1;33m(\u001b[0m\u001b[0mcmd\u001b[0m\u001b[1;33m)\u001b[0m\u001b[1;33m\u001b[0m\u001b[0m\n\u001b[0m\u001b[0;32m    617\u001b[0m         \u001b[1;32mexcept\u001b[0m \u001b[0mException\u001b[0m \u001b[1;32mas\u001b[0m \u001b[0me\u001b[0m\u001b[1;33m:\u001b[0m\u001b[1;33m\u001b[0m\u001b[0m\n\u001b[0;32m    618\u001b[0m             \u001b[0minst\u001b[0m \u001b[1;33m=\u001b[0m \u001b[0mrepr\u001b[0m\u001b[1;33m(\u001b[0m\u001b[0mself\u001b[0m\u001b[1;33m)\u001b[0m\u001b[1;33m\u001b[0m\u001b[0m\n",
      "\u001b[1;32mc:\\python\\lib\\site-packages\\qcodes\\instrument\\visa.py\u001b[0m in \u001b[0;36mwrite_raw\u001b[1;34m(self, cmd)\u001b[0m\n\u001b[0;32m    193\u001b[0m         \u001b[0mlog\u001b[0m\u001b[1;33m.\u001b[0m\u001b[0mdebug\u001b[0m\u001b[1;33m(\u001b[0m\u001b[1;34m\"Writing to instrument {}: {}\"\u001b[0m\u001b[1;33m.\u001b[0m\u001b[0mformat\u001b[0m\u001b[1;33m(\u001b[0m\u001b[0mself\u001b[0m\u001b[1;33m.\u001b[0m\u001b[0mname\u001b[0m\u001b[1;33m,\u001b[0m \u001b[0mcmd\u001b[0m\u001b[1;33m)\u001b[0m\u001b[1;33m)\u001b[0m\u001b[1;33m\u001b[0m\u001b[0m\n\u001b[0;32m    194\u001b[0m \u001b[1;33m\u001b[0m\u001b[0m\n\u001b[1;32m--> 195\u001b[1;33m         \u001b[0mnr_bytes_written\u001b[0m\u001b[1;33m,\u001b[0m \u001b[0mret_code\u001b[0m \u001b[1;33m=\u001b[0m \u001b[0mself\u001b[0m\u001b[1;33m.\u001b[0m\u001b[0mvisa_handle\u001b[0m\u001b[1;33m.\u001b[0m\u001b[0mwrite\u001b[0m\u001b[1;33m(\u001b[0m\u001b[0mcmd\u001b[0m\u001b[1;33m)\u001b[0m\u001b[1;33m\u001b[0m\u001b[0m\n\u001b[0m\u001b[0;32m    196\u001b[0m         \u001b[0mself\u001b[0m\u001b[1;33m.\u001b[0m\u001b[0mcheck_error\u001b[0m\u001b[1;33m(\u001b[0m\u001b[0mret_code\u001b[0m\u001b[1;33m)\u001b[0m\u001b[1;33m\u001b[0m\u001b[0m\n\u001b[0;32m    197\u001b[0m \u001b[1;33m\u001b[0m\u001b[0m\n",
      "\u001b[1;32mc:\\python\\lib\\site-packages\\pyvisa\\resources\\messagebased.py\u001b[0m in \u001b[0;36mwrite\u001b[1;34m(self, message, termination, encoding)\u001b[0m\n\u001b[0;32m    205\u001b[0m             \u001b[0mmessage\u001b[0m \u001b[1;33m+=\u001b[0m \u001b[0mterm\u001b[0m\u001b[1;33m\u001b[0m\u001b[0m\n\u001b[0;32m    206\u001b[0m \u001b[1;33m\u001b[0m\u001b[0m\n\u001b[1;32m--> 207\u001b[1;33m         \u001b[0mcount\u001b[0m \u001b[1;33m=\u001b[0m \u001b[0mself\u001b[0m\u001b[1;33m.\u001b[0m\u001b[0mwrite_raw\u001b[0m\u001b[1;33m(\u001b[0m\u001b[0mmessage\u001b[0m\u001b[1;33m.\u001b[0m\u001b[0mencode\u001b[0m\u001b[1;33m(\u001b[0m\u001b[0menco\u001b[0m\u001b[1;33m)\u001b[0m\u001b[1;33m)\u001b[0m\u001b[1;33m\u001b[0m\u001b[0m\n\u001b[0m\u001b[0;32m    208\u001b[0m \u001b[1;33m\u001b[0m\u001b[0m\n\u001b[0;32m    209\u001b[0m         \u001b[1;32mreturn\u001b[0m \u001b[0mcount\u001b[0m\u001b[1;33m\u001b[0m\u001b[0m\n",
      "\u001b[1;32mc:\\python\\lib\\site-packages\\pyvisa\\resources\\messagebased.py\u001b[0m in \u001b[0;36mwrite_raw\u001b[1;34m(self, message)\u001b[0m\n\u001b[0;32m    183\u001b[0m         \u001b[1;33m:\u001b[0m\u001b[0mrtype\u001b[0m\u001b[1;33m:\u001b[0m \u001b[0mint\u001b[0m\u001b[1;33m\u001b[0m\u001b[0m\n\u001b[0;32m    184\u001b[0m         \"\"\"\n\u001b[1;32m--> 185\u001b[1;33m         \u001b[1;32mreturn\u001b[0m \u001b[0mself\u001b[0m\u001b[1;33m.\u001b[0m\u001b[0mvisalib\u001b[0m\u001b[1;33m.\u001b[0m\u001b[0mwrite\u001b[0m\u001b[1;33m(\u001b[0m\u001b[0mself\u001b[0m\u001b[1;33m.\u001b[0m\u001b[0msession\u001b[0m\u001b[1;33m,\u001b[0m \u001b[0mmessage\u001b[0m\u001b[1;33m)\u001b[0m\u001b[1;33m\u001b[0m\u001b[0m\n\u001b[0m\u001b[0;32m    186\u001b[0m \u001b[1;33m\u001b[0m\u001b[0m\n\u001b[0;32m    187\u001b[0m     \u001b[1;32mdef\u001b[0m \u001b[0mwrite\u001b[0m\u001b[1;33m(\u001b[0m\u001b[0mself\u001b[0m\u001b[1;33m,\u001b[0m \u001b[0mmessage\u001b[0m\u001b[1;33m,\u001b[0m \u001b[0mtermination\u001b[0m\u001b[1;33m=\u001b[0m\u001b[1;32mNone\u001b[0m\u001b[1;33m,\u001b[0m \u001b[0mencoding\u001b[0m\u001b[1;33m=\u001b[0m\u001b[1;32mNone\u001b[0m\u001b[1;33m)\u001b[0m\u001b[1;33m:\u001b[0m\u001b[1;33m\u001b[0m\u001b[0m\n",
      "\u001b[1;32mc:\\python\\lib\\site-packages\\pyvisa\\ctwrapper\\functions.py\u001b[0m in \u001b[0;36mwrite\u001b[1;34m(library, session, data)\u001b[0m\n\u001b[0;32m   1862\u001b[0m     \u001b[0mreturn_count\u001b[0m \u001b[1;33m=\u001b[0m \u001b[0mViUInt32\u001b[0m\u001b[1;33m(\u001b[0m\u001b[1;33m)\u001b[0m\u001b[1;33m\u001b[0m\u001b[0m\n\u001b[0;32m   1863\u001b[0m     \u001b[1;31m# [ViSession, ViBuf, ViUInt32, ViPUInt32]\u001b[0m\u001b[1;33m\u001b[0m\u001b[1;33m\u001b[0m\u001b[0m\n\u001b[1;32m-> 1864\u001b[1;33m     \u001b[0mret\u001b[0m \u001b[1;33m=\u001b[0m \u001b[0mlibrary\u001b[0m\u001b[1;33m.\u001b[0m\u001b[0mviWrite\u001b[0m\u001b[1;33m(\u001b[0m\u001b[0msession\u001b[0m\u001b[1;33m,\u001b[0m \u001b[0mdata\u001b[0m\u001b[1;33m,\u001b[0m \u001b[0mlen\u001b[0m\u001b[1;33m(\u001b[0m\u001b[0mdata\u001b[0m\u001b[1;33m)\u001b[0m\u001b[1;33m,\u001b[0m \u001b[0mbyref\u001b[0m\u001b[1;33m(\u001b[0m\u001b[0mreturn_count\u001b[0m\u001b[1;33m)\u001b[0m\u001b[1;33m)\u001b[0m\u001b[1;33m\u001b[0m\u001b[0m\n\u001b[0m\u001b[0;32m   1865\u001b[0m     \u001b[1;32mreturn\u001b[0m \u001b[0mreturn_count\u001b[0m\u001b[1;33m.\u001b[0m\u001b[0mvalue\u001b[0m\u001b[1;33m,\u001b[0m \u001b[0mret\u001b[0m\u001b[1;33m\u001b[0m\u001b[0m\n\u001b[0;32m   1866\u001b[0m \u001b[1;33m\u001b[0m\u001b[0m\n",
      "\u001b[1;32mc:\\python\\lib\\site-packages\\pyvisa\\ctwrapper\\highlevel.py\u001b[0m in \u001b[0;36m_return_handler\u001b[1;34m(self, ret_value, func, arguments)\u001b[0m\n\u001b[0;32m    186\u001b[0m \u001b[1;33m\u001b[0m\u001b[0m\n\u001b[0;32m    187\u001b[0m         \u001b[1;32mif\u001b[0m \u001b[0mret_value\u001b[0m \u001b[1;33m<\u001b[0m \u001b[1;36m0\u001b[0m\u001b[1;33m:\u001b[0m\u001b[1;33m\u001b[0m\u001b[0m\n\u001b[1;32m--> 188\u001b[1;33m             \u001b[1;32mraise\u001b[0m \u001b[0merrors\u001b[0m\u001b[1;33m.\u001b[0m\u001b[0mVisaIOError\u001b[0m\u001b[1;33m(\u001b[0m\u001b[0mret_value\u001b[0m\u001b[1;33m)\u001b[0m\u001b[1;33m\u001b[0m\u001b[0m\n\u001b[0m\u001b[0;32m    189\u001b[0m \u001b[1;33m\u001b[0m\u001b[0m\n\u001b[0;32m    190\u001b[0m         \u001b[1;32mif\u001b[0m \u001b[0mret_value\u001b[0m \u001b[1;32min\u001b[0m \u001b[0mself\u001b[0m\u001b[1;33m.\u001b[0m\u001b[0missue_warning_on\u001b[0m\u001b[1;33m:\u001b[0m\u001b[1;33m\u001b[0m\u001b[0m\n",
      "\u001b[1;31mVisaIOError\u001b[0m: ('VI_ERROR_TMO (-1073807339): Timeout expired before operation completed.', \"writing 'TIMebase:RANGe 4e-07' to <RTO1000: rto>\", 'setting rto_timebase_range to 4e-07')"
     ]
    }
   ],
   "source": [
    "data_tr3 = send_and_read_back_wave(sample_count, rto, da, da_ctrl, trig_time)"
   ]
  },
  {
   "cell_type": "code",
   "execution_count": null,
   "metadata": {
    "scrolled": false
   },
   "outputs": [],
   "source": [
    "data_tr3 = send_and_read_back_wave(128, rto, da, da_ctrl, trig_time)"
   ]
  },
  {
   "cell_type": "markdown",
   "metadata": {},
   "source": [
    "#### 归一化显示发送波形与示波器采集的波形"
   ]
  },
  {
   "cell_type": "code",
   "execution_count": null,
   "metadata": {},
   "outputs": [],
   "source": [
    "%matplotlib notebook\n",
    "process_waves(wave, data_tr3.arrays['trace'])"
   ]
  },
  {
   "cell_type": "markdown",
   "metadata": {},
   "source": [
    "读取示波器波形数据并画图"
   ]
  },
  {
   "cell_type": "markdown",
   "metadata": {},
   "source": [
    "### 一层嵌套"
   ]
  },
  {
   "cell_type": "code",
   "execution_count": null,
   "metadata": {
    "scrolled": false
   },
   "outputs": [],
   "source": [
    "# %matplotlib notebook\n",
    "da_ctrl.seq = seq_T+seq_L1+seq_D+seq_C+seq_J1+seq_T_stop+[0,0,0,0]*4\n",
    "sample_count,wave,trig_time = da_ctrl.wave_preview('一层嵌套')"
   ]
  },
  {
   "cell_type": "markdown",
   "metadata": {},
   "source": [
    "#### 发送波形并读取示波器波形数据并画图"
   ]
  },
  {
   "cell_type": "code",
   "execution_count": null,
   "metadata": {},
   "outputs": [],
   "source": [
    "data_tr3 = send_and_read_back_wave(sample_count, rto, da, da_ctrl,trig_time)"
   ]
  },
  {
   "cell_type": "markdown",
   "metadata": {},
   "source": [
    "#### 归一化显示发送波形与示波器采集的波形"
   ]
  },
  {
   "cell_type": "code",
   "execution_count": null,
   "metadata": {},
   "outputs": [],
   "source": [
    "process_waves(wave, data_tr3.arrays['trace'])"
   ]
  },
  {
   "cell_type": "markdown",
   "metadata": {},
   "source": [
    "### 两层嵌套(Loop指令开始带触发输出)"
   ]
  },
  {
   "cell_type": "code",
   "execution_count": null,
   "metadata": {
    "scrolled": false
   },
   "outputs": [],
   "source": [
    "seq_L1[3] &= 0xF800\n",
    "seq_L1[3] = seq_L1[3] | (1<<10) | 45\n",
    "da_ctrl.seq = seq_T+seq_L1+seq_L2+seq_D+seq_C+seq_J2+seq_J1+seq_T_stop+[0,0,0,0]*10\n",
    "sample_count,wave,trig_time = da_ctrl.wave_preview('两层嵌套')"
   ]
  },
  {
   "cell_type": "markdown",
   "metadata": {},
   "source": [
    "#### 发送波形并读取示波器波形数据并画图"
   ]
  },
  {
   "cell_type": "code",
   "execution_count": null,
   "metadata": {},
   "outputs": [],
   "source": [
    "data_tr3 = send_and_read_back_wave(sample_count, rto, da, da_ctrl,trig_time)"
   ]
  },
  {
   "cell_type": "markdown",
   "metadata": {},
   "source": [
    "#### 归一化显示发送波形与示波器采集的波形"
   ]
  },
  {
   "cell_type": "code",
   "execution_count": null,
   "metadata": {},
   "outputs": [],
   "source": [
    "process_waves(wave, data_tr3.arrays['trace'])"
   ]
  },
  {
   "cell_type": "markdown",
   "metadata": {},
   "source": [
    "### 三层嵌套  "
   ]
  },
  {
   "cell_type": "code",
   "execution_count": null,
   "metadata": {
    "scrolled": false
   },
   "outputs": [],
   "source": [
    "da_ctrl.seq = seq_T+seq_L1+seq_L2+seq_L3+seq_D+seq_C+seq_J3+seq_J2+seq_J1+\\\n",
    "seq_T_stop+[0,0,0,0]*10\n",
    "sample_count,wave,trig_time = da_ctrl.wave_preview('三层嵌套')"
   ]
  },
  {
   "cell_type": "markdown",
   "metadata": {},
   "source": [
    "#### 发送波形并读取示波器波形数据并画图"
   ]
  },
  {
   "cell_type": "code",
   "execution_count": null,
   "metadata": {},
   "outputs": [],
   "source": [
    "data_tr3 = send_and_read_back_wave(sample_count, rto, da, da_ctrl,trig_time)"
   ]
  },
  {
   "cell_type": "markdown",
   "metadata": {},
   "source": [
    "#### 归一化显示发送波形与示波器采集的波形"
   ]
  },
  {
   "cell_type": "code",
   "execution_count": null,
   "metadata": {},
   "outputs": [],
   "source": [
    "process_waves(wave, data_tr3.arrays['trace'])"
   ]
  },
  {
   "cell_type": "markdown",
   "metadata": {},
   "source": [
    "### 四层嵌套  "
   ]
  },
  {
   "cell_type": "code",
   "execution_count": null,
   "metadata": {
    "scrolled": false
   },
   "outputs": [],
   "source": [
    "# %matplotlib notebook\n",
    "da_ctrl.seq = seq_T+seq_L1+seq_L2+seq_L3+seq_L4+seq_D+seq_C+seq_J4+seq_J3+\\\n",
    "seq_J2+seq_J1+seq_T_stop+[0,0,0,0]*10\n",
    "sample_count,wave,trig_time = da_ctrl.wave_preview('四层嵌套')"
   ]
  },
  {
   "cell_type": "markdown",
   "metadata": {},
   "source": [
    "#### 发送波形并读取示波器波形数据并画图"
   ]
  },
  {
   "cell_type": "code",
   "execution_count": null,
   "metadata": {},
   "outputs": [],
   "source": [
    "# %matplotlib notebook\n",
    "data_tr3 = send_and_read_back_wave(sample_count, rto, da, da_ctrl,trig_time)"
   ]
  },
  {
   "cell_type": "markdown",
   "metadata": {},
   "source": [
    "#### 归一化显示发送波形与示波器采集的波形"
   ]
  },
  {
   "cell_type": "code",
   "execution_count": null,
   "metadata": {},
   "outputs": [],
   "source": [
    "process_waves(wave, data_tr3.arrays['trace'])"
   ]
  },
  {
   "cell_type": "markdown",
   "metadata": {},
   "source": [
    "### 三层嵌套2&3  "
   ]
  },
  {
   "cell_type": "code",
   "execution_count": null,
   "metadata": {
    "scrolled": false
   },
   "outputs": [],
   "source": [
    "da_ctrl.seq = seq_T+seq_L1+seq_L2+seq_L3+seq_D+seq_C+seq_J3+seq_J2+seq_L4+\\\n",
    "seq_D*2+seq_J4+seq_J1+seq_T_stop+[0,0,0,0]*10 \n",
    "sample_count,wave,trig_time = da_ctrl.wave_preview('三层嵌套2')"
   ]
  },
  {
   "cell_type": "markdown",
   "metadata": {},
   "source": [
    "#### 发送波形并读取示波器波形数据并画图"
   ]
  },
  {
   "cell_type": "code",
   "execution_count": null,
   "metadata": {
    "scrolled": false
   },
   "outputs": [],
   "source": [
    "data_tr3 = send_and_read_back_wave(sample_count, rto, da, da_ctrl,trig_time)"
   ]
  },
  {
   "cell_type": "markdown",
   "metadata": {},
   "source": [
    "#### 归一化显示发送波形与示波器采集的波形"
   ]
  },
  {
   "cell_type": "code",
   "execution_count": null,
   "metadata": {},
   "outputs": [],
   "source": [
    "process_waves(wave, data_tr3.arrays['trace'])"
   ]
  },
  {
   "cell_type": "code",
   "execution_count": null,
   "metadata": {
    "scrolled": false
   },
   "outputs": [],
   "source": [
    "da_ctrl.seq = seq_T+seq_L1+seq_L2+seq_L3+seq_D+seq_C+seq_J3+seq_J2+seq_L2+\\\n",
    "seq_D*2+seq_J2+seq_J1+seq_T_stop+[0,0,0,0]*4\n",
    "sample_count,wave,trig_time = da_ctrl.wave_preview('三层嵌套3')"
   ]
  },
  {
   "cell_type": "markdown",
   "metadata": {},
   "source": [
    "#### 发送波形并读取示波器波形数据并画图"
   ]
  },
  {
   "cell_type": "code",
   "execution_count": null,
   "metadata": {
    "scrolled": false
   },
   "outputs": [],
   "source": [
    "data_tr3 = send_and_read_back_wave(sample_count, rto, da, da_ctrl,trig_time)"
   ]
  },
  {
   "cell_type": "markdown",
   "metadata": {},
   "source": [
    "#### 归一化显示发送波形与示波器采集的波形"
   ]
  },
  {
   "cell_type": "code",
   "execution_count": null,
   "metadata": {
    "scrolled": false
   },
   "outputs": [],
   "source": [
    "process_waves(wave, data_tr3.arrays['trace'])"
   ]
  },
  {
   "cell_type": "markdown",
   "metadata": {},
   "source": [
    "## 定义多次平均的方式进行测试"
   ]
  },
  {
   "cell_type": "code",
   "execution_count": null,
   "metadata": {
    "scrolled": true
   },
   "outputs": [],
   "source": [
    "def send_and_read_back_wave1(sample_count, rto, da, da_ctrl):\n",
    "    duration = (int(sample_count+40) >> 1) * 10e-10\n",
    "    duration = int((sample_count+199)/200) * 10e-8\n",
    "    rto.timebase_range(duration) \n",
    "    rto.timebase_position(duration/2 - 10e-9)\n",
    "    repeat_cnt = 1000\n",
    "    rto.high_definition_state('ON')  # 'ON' -> 16 bit, 'OFF' -> 8 bit\n",
    "    rto.num_acquisitions(repeat_cnt)\n",
    "#     rto.ch3.arithmetics('AVERAGE')  # other options: 'ENVELOPE' and 'OFF'\n",
    "#     rto.ch1.arithmetics('AVERAGE')  # other options: 'ENVELOPE' and 'OFF'\n",
    "#     rto.run_cont()\n",
    "#     rto.run_single()  # and perform a single run. \n",
    "    for i in range(1,5):\n",
    "        da.WriteSeq(i,da_ctrl.seq)\n",
    "    \n",
    "    da.StartStop(240)\n",
    "    da.StartStop(15)\n",
    "    da.SetTrigCount(1)\n",
    "    da.SetLoop(repeat_cnt, repeat_cnt, repeat_cnt, repeat_cnt)\n",
    "    for i in range(repeat_cnt):\n",
    "        da.SendIntTrig()\n",
    "        time.sleep(0.01)\n",
    "\n",
    "    #读取示波器波形数据并画图\n",
    "\n",
    "    # Next, the trace must be prepared. This ensures that all settings are correct\n",
    "    rto.ch3.trace.prepare_trace()\n",
    "    rto.ch1.trace.prepare_trace()\n",
    "    # Now make a measurement of the trace and display it\n",
    "    data_tr3 = qc.Measure(rto.ch3.trace).run()\n",
    "    data_tr1 = qc.Measure(rto.ch1.trace).run()\n",
    "\n",
    "    plot = qc.MatPlot(subplots=1, figsize=(10,3))\n",
    "    plot[0].add(data_tr1.arrays['trace'])\n",
    "    plot[0].add(data_tr3.arrays['trace'])\n",
    "    return data_tr3"
   ]
  },
  {
   "cell_type": "markdown",
   "metadata": {},
   "source": [
    "### 无嵌套"
   ]
  },
  {
   "cell_type": "code",
   "execution_count": null,
   "metadata": {},
   "outputs": [],
   "source": [
    "seq_C[3] = seq_C[3] & 0xF800\n",
    "da_ctrl.seq = seq_T+seq_C+seq_D+seq_T_stop+[0,0,0,0]*10\n",
    "sample_count,wave,trig_time = da_ctrl.wave_preview('无嵌套')"
   ]
  },
  {
   "cell_type": "code",
   "execution_count": null,
   "metadata": {
    "scrolled": false
   },
   "outputs": [],
   "source": [
    "time.sleep(1)\n",
    "data_tr3_1 = send_and_read_back_wave(sample_count, rto, da, da_ctrl,trig_time)"
   ]
  },
  {
   "cell_type": "code",
   "execution_count": null,
   "metadata": {
    "scrolled": false
   },
   "outputs": [],
   "source": [
    "\n",
    "process_waves(wave, data_tr3_1.arrays['trace'])"
   ]
  },
  {
   "cell_type": "code",
   "execution_count": null,
   "metadata": {},
   "outputs": [],
   "source": [
    "# da.disconnect()"
   ]
  }
 ],
 "metadata": {
  "kernelspec": {
   "display_name": "Python 3",
   "language": "python",
   "name": "python3"
  },
  "language_info": {
   "codemirror_mode": {
    "name": "ipython",
    "version": 3
   },
   "file_extension": ".py",
   "mimetype": "text/x-python",
   "name": "python",
   "nbconvert_exporter": "python",
   "pygments_lexer": "ipython3",
   "version": "3.6.6"
  }
 },
 "nbformat": 4,
 "nbformat_minor": 2
}
