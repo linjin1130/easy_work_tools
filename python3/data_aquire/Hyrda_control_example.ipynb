{
 "cells": [
  {
   "cell_type": "code",
   "execution_count": 43,
   "metadata": {},
   "outputs": [],
   "source": [
    "from pipython import GCSDevice\n",
    "from pipython import GCSDevice, pitools"
   ]
  },
  {
   "cell_type": "code",
   "execution_count": 44,
   "metadata": {
    "scrolled": true
   },
   "outputs": [],
   "source": [
    "CONTROLLERNAME = 'POLLUX'\n",
    "STAGES = None  # this controller does not need a 'stages' setting\n",
    "REFMODE = None\n",
    "\n",
    "ip = '172.16.0.34'"
   ]
  },
  {
   "cell_type": "code",
   "execution_count": 47,
   "metadata": {},
   "outputs": [
    {
     "name": "stderr",
     "output_type": "stream",
     "text": [
      "WARNING:root:no GCSTranslator path in Windows registry (HKLM\\SOFTWARE\\PI\\GCSTranslator)\n"
     ]
    },
    {
     "name": "stdout",
     "output_type": "stream",
     "text": [
      "(c)2003-2014 Physik Instrumente (PI) GmbH & Co. KG,hydra,1706-0556,GCSDLL: 2.2.0.4\n",
      "\n",
      "version info: PI_HydraPollux_GCS2_DLL: V2.2.0.4 \n",
      "Hydra: V5.310000 \n",
      "generic_i: 4.0.0.4 \n",
      "PIBase: 3.0.0.2 \n",
      "C:/ProgramData/PI/GCSTranslator//pimicosstages.dat \n",
      "PIPython: 1.3.4.34\n",
      "initialize connected stages...\n"
     ]
    }
   ],
   "source": [
    "pidevice = GCSDevice(CONTROLLERNAME)\n",
    "pidevice.ConnectTCPIP(ipaddress=ip, ipport=400)\n",
    "# gcs.InterfaceSetupDlg()\n",
    "print(pidevice.qIDN())\n",
    "if pidevice.HasqVER():\n",
    "    print('version info: {}'.format(pidevice.qVER().strip()))\n",
    "\n",
    "print('initialize connected stages...')\n",
    "pitools.startup(pidevice, stages=STAGES, refmode=REFMODE)"
   ]
  },
  {
   "cell_type": "code",
   "execution_count": 33,
   "metadata": {},
   "outputs": [
    {
     "name": "stdout",
     "output_type": "stream",
     "text": [
      "initialize connected stages...\n"
     ]
    }
   ],
   "source": [
    "pidevice.MOV(pidevice.axes[0], 0.1)\n",
    "\n",
    "# To check the on target state of an axis there is the GCS command\n",
    "# qONT(). But it is more convenient to just call \"waitontarget\".\n",
    "\n",
    "pitools.waitontarget(pidevice)"
   ]
  },
  {
   "cell_type": "code",
   "execution_count": 46,
   "metadata": {},
   "outputs": [],
   "source": [
    "pidevice.CloseConnection()"
   ]
  }
 ],
 "metadata": {
  "kernelspec": {
   "display_name": "Python 3",
   "language": "python",
   "name": "python3"
  },
  "language_info": {
   "codemirror_mode": {
    "name": "ipython",
    "version": 3
   },
   "file_extension": ".py",
   "mimetype": "text/x-python",
   "name": "python",
   "nbconvert_exporter": "python",
   "pygments_lexer": "ipython3",
   "version": "3.6.6"
  }
 },
 "nbformat": 4,
 "nbformat_minor": 2
}
