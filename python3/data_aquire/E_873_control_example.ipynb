{
 "cells": [
  {
   "cell_type": "code",
   "execution_count": 1,
   "metadata": {},
   "outputs": [],
   "source": [
    "from pipython import GCSDevice\n",
    "from pipython import GCSDevice, pitools"
   ]
  },
  {
   "cell_type": "code",
   "execution_count": 3,
   "metadata": {
    "scrolled": true
   },
   "outputs": [
    {
     "name": "stderr",
     "output_type": "stream",
     "text": [
      "WARNING:root:no GCSTranslator path in Windows registry (HKLM\\SOFTWARE\\PI\\GCSTranslator)\n"
     ]
    },
    {
     "name": "stdout",
     "output_type": "stream",
     "text": [
      "(c)2017 Physik Instrumente (PI) GmbH & Co. KG, E-873.3QTU, 118032666, 02.028\n",
      "\n"
     ]
    }
   ],
   "source": [
    "gcs = GCSDevice('E-873')\n",
    "ip = '172.16.0.36'\n",
    "gcs.ConnectTCPIP(ipaddress=ip, ipport=50000)\n",
    "print(gcs.qIDN())\n"
   ]
  },
  {
   "cell_type": "code",
   "execution_count": 4,
   "metadata": {},
   "outputs": [
    {
     "name": "stdout",
     "output_type": "stream",
     "text": [
      "version info: PI PI_GCS2_DLL.dll: V3.9.8.3 \n",
      "generic_i: 4.8.4.1 \n",
      "PIBase: 3.6.0.1 \n",
      "FW_DSP: V02.028 \n",
      "PIPython: 1.3.4.34\n"
     ]
    }
   ],
   "source": [
    "if gcs.HasqVER():\n",
    "    print('version info: {}'.format(gcs.qVER().strip()))"
   ]
  },
  {
   "cell_type": "code",
   "execution_count": 5,
   "metadata": {},
   "outputs": [
    {
     "name": "stdout",
     "output_type": "stream",
     "text": [
      "initialize connected stages...\n"
     ]
    }
   ],
   "source": [
    "STAGES = None  # this controller does not need a 'stages' setting\n",
    "REFMODE = None\n",
    "print('initialize connected stages...')\n",
    "pitools.startup(gcs, stages=STAGES, refmode=REFMODE)"
   ]
  },
  {
   "cell_type": "code",
   "execution_count": 7,
   "metadata": {},
   "outputs": [],
   "source": [
    "gcs.MOV(gcs.axes[2], 2.5)\n",
    "\n",
    "# To check the on target state of an axis there is the GCS command\n",
    "# qONT(). But it is more convenient to just call \"waitontarget\".\n",
    "\n",
    "pitools.waitontarget(gcs)"
   ]
  },
  {
   "cell_type": "code",
   "execution_count": 8,
   "metadata": {},
   "outputs": [],
   "source": [
    "gcs.CloseConnection()"
   ]
  },
  {
   "cell_type": "code",
   "execution_count": 4,
   "metadata": {},
   "outputs": [
    {
     "data": {
      "image/png": "[encoded data removed]",
      "text/plain": [
       "<Figure size 432x288 with 1 Axes>"
      ]
     },
     "metadata": {
      "needs_background": "light"
     },
     "output_type": "display_data"
    }
   ],
   "source": [
    "# %matplotlib\n",
    "import matplotlib.pyplot as plt\n",
    "plt.figure()\n",
    "plt.plot(pos1[1])\n",
    "plt.show()"
   ]
  }
 ],
 "metadata": {
  "kernelspec": {
   "display_name": "Python 3",
   "language": "python",
   "name": "python3"
  },
  "language_info": {
   "codemirror_mode": {
    "name": "ipython",
    "version": 3
   },
   "file_extension": ".py",
   "mimetype": "text/x-python",
   "name": "python",
   "nbconvert_exporter": "python",
   "pygments_lexer": "ipython3",
   "version": "3.6.6"
  }
 },
 "nbformat": 4,
 "nbformat_minor": 2
}
